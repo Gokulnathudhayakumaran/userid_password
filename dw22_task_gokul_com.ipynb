{
 "cells": [
  {
   "cell_type": "code",
   "execution_count": 1,
   "id": "1daf5427",
   "metadata": {},
   "outputs": [],
   "source": [
    "def email(a):\n",
    "    c=0\n",
    "    for i in a:\n",
    "        if(i==\"@\") or (i==\".\"):\n",
    "            c=c+1\n",
    "    if(a.index(\".\")-a.index(\"@\")>=5):\n",
    "        c=c+1 \n",
    "    for i in '''123456789~`!@#$%^&*()_+-={}[]:\";'<>,.?/''':\n",
    "        if(i==a[0]):\n",
    "            c=c-1\n",
    "    if(a[0]==\"@\") or (a[-1]==\".\"):\n",
    "        c=c-1\n",
    "    if(\".com\" in a):\n",
    "        c=c+1\n",
    "    if(c==4):\n",
    "        print(\"user id is valid\")\n",
    "        return a\n",
    "    else:\n",
    "        print(\"not valid\")\n",
    "        us_email=input(print(\"kindly provide valid userid\"))\n",
    "        email(us_email)\n",
    "        "
   ]
  },
  {
   "cell_type": "code",
   "execution_count": 2,
   "id": "c68dcdf9",
   "metadata": {},
   "outputs": [],
   "source": [
    "def password(b):\n",
    "    c=0\n",
    "    if(len(b)>=5 and len(b)<=16):\n",
    "        for i in b:\n",
    "            for j in \"QWERTYUIOPLKJHGFDSAZXCVBNM\":\n",
    "                if(i == j):\n",
    "                    for i in b:\n",
    "                        for j in \"qwertyuioplkjhgfdsazxcvbnm\":\n",
    "                            if(i == j):\n",
    "                                for i in b:\n",
    "                                    for j in \"123456789\":\n",
    "                                        if(i == j):\n",
    "                                            for i in b:\n",
    "                                                for j in '''~`!@#$%^&*()_+-={}[]:\";'<>,.?/''':\n",
    "                                                    if(i == j):\n",
    "                                                        c=1\n",
    "                           \n",
    "    if(c==1):\n",
    "        print(\"valid\")\n",
    "        return b\n",
    "    else:\n",
    "        print(\"not valid\")\n",
    "        print(\"kindly provide valid password\")\n",
    "        f=input()\n",
    "        password(f)\n",
    "        \n",
    "     \n",
    "  "
   ]
  },
  {
   "cell_type": "code",
   "execution_count": 3,
   "id": "75579aa6",
   "metadata": {},
   "outputs": [],
   "source": [
    "def registration(t):   \n",
    "    email(t)\n",
    "    print(\"enter password\")\n",
    "    f=input()\n",
    "    password(f)\n",
    "    st=open(\"dw22_task1_gokul.txt\",\"a\")\n",
    "    hr=t+\",\"+f+\"\\n\"\n",
    "    g=[]\n",
    "    g.append(hr)\n",
    "    st.writelines(g)\n",
    "    st.close()\n",
    "    print(\"user_id and password sucessfully created\") "
   ]
  },
  {
   "cell_type": "code",
   "execution_count": 4,
   "id": "5da4d0b9",
   "metadata": {},
   "outputs": [],
   "source": [
    "def retrive(n):\n",
    "    st=open(\"dw22_task1_gokul.txt\",\"r\")\n",
    "    l=st.readlines()\n",
    "    global a\n",
    "    global b\n",
    "    for i in l:\n",
    "        l1=((i).split(\",\"))\n",
    "        a=l1[0]\n",
    "        b=l1[1].strip(\"\\n\")\n",
    "        if(n==a):\n",
    "            return a\n",
    "            return b\n",
    "            "
   ]
  },
  {
   "cell_type": "code",
   "execution_count": 5,
   "id": "279cf0c0",
   "metadata": {},
   "outputs": [],
   "source": [
    "def login(u,v):\n",
    "    retrive(u)\n",
    "    if ((u==a) and (v==b)):\n",
    "        print(\"login successfull\")\n",
    "    elif(u==a):\n",
    "        print(\"userid correct\")\n",
    "        print(\"kindly provide correct password orelse choose forget_password\")\n",
    "    else:\n",
    "        print(\"userid not correct\")\n",
    "        e=int(input(print(\"kindly provide correct userid orelse enter 1 for registation\")))\n",
    "        if(e==1):\n",
    "            reg_in=input(print(\"kindly provide valid userid\"))\n",
    "            registration(reg_in)"
   ]
  },
  {
   "cell_type": "code",
   "execution_count": 6,
   "id": "02e97b97",
   "metadata": {},
   "outputs": [],
   "source": [
    "def forgot_pass(u):\n",
    "    retrive(u)\n",
    "    print(a)\n",
    "    try:\n",
    "        F_user=a\n",
    "        F_pass=b\n",
    "        print(\"The password for the username:\",F_pass)\n",
    "        n=int(input(\"you can also provide new password by click 1\"))\n",
    "        if n==1:\n",
    "                new_pass=input(\"enter new password:\")\n",
    "                update_password=password(new_pass)\n",
    "                file=open(\"dw22_task1_gokul.txt\",\"r\")\n",
    "                filedata=file.read()\n",
    "                filedata1=filedata.replace(F_pass,update_password)\n",
    "                file=open(\"dw22_task1_gokul.txt\",\"w\")\n",
    "                file.write(filedata1)\n",
    "                file.close()\n",
    "                print(\"successfully updated\\n\")\n",
    "                \n",
    "    except:\n",
    "        print(\"you have not register yet please register\")\n",
    "        reg_in=input(print(\"kindly provide valid userid\"))\n",
    "        registration(reg_in)\n",
    "\n",
    "            \n",
    "   \n",
    "     "
   ]
  },
  {
   "cell_type": "code",
   "execution_count": 12,
   "id": "c6c0fd78",
   "metadata": {},
   "outputs": [
    {
     "name": "stdout",
     "output_type": "stream",
     "text": [
      "1.REGISTER 2.LOGIN 3.FORGOT PASSWORD\n",
      "choose the option\n",
      "3\n",
      "kindly give the userid\n",
      "loga@gmail.com\n",
      "loga@gmail.com\n",
      "The password for the username: G29k03l01#\n",
      "you can also provide new password by click 11\n",
      "enter new password:G29k03l01^\n",
      "valid\n",
      "successfully updated\n",
      "\n"
     ]
    }
   ],
   "source": [
    "#main func\n",
    "print(\"1.REGISTER 2.LOGIN 3.FORGOT PASSWORD\")\n",
    "print(\"choose the option\")\n",
    "opt=int(input())\n",
    "if(opt==1):\n",
    "    print(\"kindly give the userid\")\n",
    "    d=input()\n",
    "    registration(d)\n",
    "elif(opt==2):\n",
    "    print(\"kindly give the userid\")\n",
    "    log=input()\n",
    "    print(\"kindly give the password\")\n",
    "    pas=input()\n",
    "    login(log,pas)\n",
    "elif(opt==3):\n",
    "    print(\"kindly give the userid\")\n",
    "    f_pass_userid=input()\n",
    "    forgot_pass(f_pass_userid)"
   ]
  },
  {
   "cell_type": "code",
   "execution_count": null,
   "id": "a3f7ed93",
   "metadata": {},
   "outputs": [],
   "source": []
  }
 ],
 "metadata": {
  "kernelspec": {
   "display_name": "Python 3 (ipykernel)",
   "language": "python",
   "name": "python3"
  },
  "language_info": {
   "codemirror_mode": {
    "name": "ipython",
    "version": 3
   },
   "file_extension": ".py",
   "mimetype": "text/x-python",
   "name": "python",
   "nbconvert_exporter": "python",
   "pygments_lexer": "ipython3",
   "version": "3.9.12"
  }
 },
 "nbformat": 4,
 "nbformat_minor": 5
}
